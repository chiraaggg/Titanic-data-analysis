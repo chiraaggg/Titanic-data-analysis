import pandas as pd
import numpy as np
import matplotlib.pyplot as plt
import seaborn as sns

# Set the aesthetic style of the plots
sns.set(style="whitegrid")

# Load the Titanic dataset
train_data = pd.read_csv('path/to/train.csv')

# Display the first few rows of the dataset
train_data.head()

# Handling missing values
train_data['Age'].fillna(train_data['Age'].median(), inplace=True)
train_data['Embarked'].fillna(train_data['Embarked'].mode()[0], inplace=True)

# Dropping the 'Cabin' column due to a high percentage of missing values
train_data.drop(columns=['Cabin'], inplace=True)

# Dropping irrelevant columns
train_data.drop(columns=['Name', 'Ticket'], inplace=True)

# Converting categorical variables to numerical values
train_data['Sex'] = train_data['Sex'].map({'male': 0, 'female': 1})
train_data['Embarked'] = train_data['Embarked'].map({'C': 0, 'Q': 1, 'S': 2})

# Survival distribution
plt.figure(figsize=(10, 6))
sns.countplot(x='Survived', data=train_data)
plt.title('Survival Count')
plt.show()

# Gender distribution and survival rate
plt.figure(figsize=(10, 6))
sns.countplot(x='Sex', hue='Survived', data=train_data)
plt.title('Gender Distribution and Survival Rate')
plt.show()

# Passenger class and survival rate
plt.figure(figsize=(10, 6))
sns.countplot(x='Pclass', hue='Survived', data=train_data)
plt.title('Passenger Class Distribution and Survival Rate')
plt.show()

# Correlation heatmap
plt.figure(figsize=(12, 10))
sns.heatmap(train_data.corr(), annot=True, cmap='coolwarm', fmt=".2f")
plt.title('Correlation Heatmap')
plt.show()

# Age and survival
plt.figure(figsize=(10, 6))
sns.boxplot(x='Survived', y='Age', data=train_data)
plt.title('Age Distribution by Survival')
plt.show()

# Fare and survival
plt.figure(figsize=(10, 6))
sns.boxplot(x='Survived', y='Fare', data=train_data)
plt.title('Fare Distribution by Survival')
plt.show()

# Calculate survival rate
survival_rate = train_data['Survived'].mean()
print(f"Survival Rate: {survival_rate:.2%}")

# Gender and survival rate
gender_survival_rate = train_data.groupby('Sex')['Survived'].mean()
print("Survival Rate by Gender:")
print(gender_survival_rate)

# Passenger class and survival rate
pclass_survival_rate = train_data.groupby('Pclass')['Survived'].mean()
print("Survival Rate by Passenger Class:")
print(pclass_survival_rate)

# Age distribution
age_distribution = train_data['Age'].describe()
print("Age Distribution:")
print(age_distribution)
